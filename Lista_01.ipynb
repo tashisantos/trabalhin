{
 "cells": [
  {
   "cell_type": "markdown",
   "id": "e2aa0955-bc3a-40c5-b39d-07fbc93ed6db",
   "metadata": {
    "tags": []
   },
   "source": [
    "<font color=\"orange\"  size=\"+2\">**TMEC007 - Linguagem de Programação**.</font></span>\n",
    "\n",
    "* Professor: Felipe R. Loyola\n",
    "* 2024/1\n",
    "* Universidade Federal do Paraná - Departamento de Engenharia Mecânica"
   ]
  },
  {
   "cell_type": "markdown",
   "id": "1a114ad1-b012-4233-8984-fe1d2ec09c12",
   "metadata": {},
   "source": [
    "# **01ª Lista de Exercícios**\n",
    "\n",
    "**Instruções**\n",
    "\n",
    "1.   A resolução do Trabalho Computacional é de caráter **individual**\n",
    "2.   Resoluções iguais entre alunos ou aquelas copiadas da internet serão **anuladas**. Preste atenção em utilizar somente os conceitos aprendidos em sala de aula.\n",
    "3.   O uso da criatividade na solução de problemas é incentivado, mas não se esqueça de cumprir os requisitos pedidos em cada exercício.\n",
    "4.   Todas as etapas devem ser comentadas explicando o procedimento adotado.\n",
    "5.   A entrega do Trabalho Computacional está programada com a data limite diretamente no UFPR Virtual. A entrega é configurada através do arquivo de resolução em formato .ipynb na plataforma UFPR Virtual em nosso espaço de disciplina.\n",
    "6.   **Qualquer semelhança da solução com a resolução apresentada pelas ferramentas de Inteligência Artificial acarretará nota zerada para o aluno**."
   ]
  },
  {
   "cell_type": "markdown",
   "id": "f09b68a3-be28-40fb-94ca-854854100439",
   "metadata": {},
   "source": [
    "# Exercício 1) [1001 Beecrowd](https://www.beecrowd.com.br/judge/pt/problems/view/1001)\n",
    "## Extremamente Básico\n",
    "Leia 2 valores inteiros e armazene-os nas variáveis A e B. Efetue a soma de A e B atribuindo o seu resultado na variável X. Imprima X conforme exemplo apresentado abaixo. Não apresente mensagem alguma além daquilo que está sendo especificado e não esqueça de imprimir o fim de linha após o resultado, caso contrário, você receberá \"Presentation Error\".\n",
    "\n",
    "**Entrada**\n",
    "\n",
    "A entrada contém 2 valores inteiros.\n",
    "\n",
    "**Saída**\n",
    "\n",
    "Imprima a mensagem \"X = \" (letra X maiúscula) seguido pelo valor da variável X e pelo final de linha. Cuide para que tenha um espaço antes e depois do sinal de igualdade, conforme o exemplo abaixo.\n",
    "\n",
    "| Exemplos de entrada | Exemplos de entrada |\n",
    "|:----------:|----------|\n",
    "| 10<br>9 | x = 19 |\n",
    "| -10<br>4 | x = -6 |\n",
    "| 15<br>-7 | x = 8 |"
   ]
  },
  {
   "cell_type": "code",
   "execution_count": null,
   "id": "362d0d85-fbfa-4a7b-a966-fd945b86cdb7",
   "metadata": {},
   "outputs": [],
   "source": [
    "# Espaço para resolução do Exercício 01"
   ]
  },
  {
   "cell_type": "markdown",
   "id": "6f2299bc-0194-4487-a987-8f69c37d3215",
   "metadata": {},
   "source": [
    "# Exercício 2) [1004 Beecrowd](https://www.beecrowd.com.br/judge/pt/problems/view/1004)\n",
    "## Produto Simples\n",
    "Leia dois valores inteiros. A seguir, calcule o produto entre estes dois valores e atribua esta operação à variável **PROD**. A seguir mostre a variável **PROD** com mensagem correspondente. \n",
    "\n",
    "**Entrada**\n",
    "\n",
    "A entrada contém 2 valores inteiros.\n",
    "\n",
    "**Saída**\n",
    "\n",
    "Imprima a mensagem \"PROD\" e a variável **PROD** conforme exemplo abaixo, com um espaço em branco antes e depois da igualdade. Não esqueça de imprimir o fim de linha após o produto, caso contrário seu programa apresentará a mensagem: “Presentation Error”.\n",
    "\n",
    "| Exemplos de entrada | Exemplos de entrada |\n",
    "|:----------:|----------|\n",
    "| 3<br>9 | PROD = 27 |\n",
    "| -30<br>10 | PROD = -300 |\n",
    "| 0<br>9 | PROD = 0 |"
   ]
  },
  {
   "cell_type": "code",
   "execution_count": null,
   "id": "867a61ec-7e1d-46cb-a485-f798f4e8d953",
   "metadata": {},
   "outputs": [],
   "source": [
    "# Espaço para resolução do Exercício 02"
   ]
  },
  {
   "cell_type": "markdown",
   "id": "833b47a2-60f7-495d-8b17-7e3e62837be2",
   "metadata": {},
   "source": [
    "# Exercício 3) [1005 Beecrowd](https://www.beecrowd.com.br/judge/pt/problems/view/1005)\n",
    "## Média 1\n",
    "Leia 2 valores de ponto flutuante de dupla precisão A e B, que correspondem a 2 notas de um aluno. A seguir, calcule a média do aluno, sabendo que a nota A tem peso 3.5 e a nota B tem peso 7.5 (A soma dos pesos portanto é 11). Assuma que cada nota pode ir de 0 até 10.0, sempre com uma casa decimal.\n",
    "\n",
    "**Entrada**\n",
    "\n",
    "O arquivo de entrada contém 2 valores com uma casa decimal cada um.\n",
    "\n",
    "**Saída**\n",
    "\n",
    "Imprima a mensagem \"MEDIA\" e a média do aluno conforme exemplo abaixo, com 5 dígitos após o ponto decimal e com um espaço em branco antes e depois da igualdade. Utilize variáveis de dupla precisão (double) e como todos os problemas, não esqueça de imprimir o fim de linha após o resultado, caso contrário, você receberá \"Presentation Error\".\n",
    "\n",
    "| Exemplos de entrada | Exemplos de entrada |\n",
    "|:----------:|----------|\n",
    "| 5.0<br>7.1 | MEDIA = 6.43182 |\n",
    "| 0.0<br>7.1 | MEDIA = 4.84091 |\n",
    "| 10.0<br>10.0 | MEDIA = 10.00000 |"
   ]
  },
  {
   "cell_type": "code",
   "execution_count": null,
   "id": "47911434-ebec-4cae-838a-8e00ecfadf34",
   "metadata": {},
   "outputs": [],
   "source": [
    "# Espaço para resolução do Exercício 03"
   ]
  },
  {
   "cell_type": "markdown",
   "id": "17a0f8a6-bc63-49f7-a75a-a6c7cf8c6746",
   "metadata": {},
   "source": [
    "# Exercício 4) [1006 Beecrowd](https://www.beecrowd.com.br/judge/pt/problems/view/1006)\n",
    "## Média 2\n",
    "Leia 3 valores, no caso, variáveis A, B e C, que são as três notas de um aluno. A seguir, calcule a média do aluno, sabendo que a nota A tem peso 2, a nota B tem peso 3 e a nota C tem peso 5. Considere que cada nota pode ir de 0 até 10.0, sempre com uma casa decimal.\n",
    "\n",
    "**Entrada**\n",
    "\n",
    "O arquivo de entrada contém 3 valores com uma casa decimal, de dupla precisão (double).\n",
    "\n",
    "**Saída**\n",
    "\n",
    "Imprima a mensagem \"MEDIA\" e a média do aluno conforme exemplo abaixo, com 1 dígito após o ponto decimal e com um espaço em branco antes e depois da igualdade. Assim como todos os problemas, não esqueça de imprimir o fim de linha após o resultado, caso contrário, você receberá \"Presentation Error\".\n",
    "\n",
    "| Exemplos de entrada | Exemplos de entrada |\n",
    "|:----------:|----------|\n",
    "| 5.0<br>6.0<br>7.0 | MEDIA = 6.3 |\n",
    "| 5.0<br>10.0<br>10.0 | MEDIA = 9.0 |\n",
    "| 10.0<br>10.0<br>5.0 | MEDIA = 7.5 |"
   ]
  },
  {
   "cell_type": "code",
   "execution_count": null,
   "id": "04a89551-9b62-47e9-871c-e6abc2d963c3",
   "metadata": {},
   "outputs": [],
   "source": [
    "# Espaço para resolução do Exercício 04"
   ]
  },
  {
   "cell_type": "markdown",
   "id": "aa6964c8-8aa0-47b7-961b-9692052b215a",
   "metadata": {},
   "source": [
    "# Exercício 5) [1007 Beecrowd](https://www.beecrowd.com.br/judge/pt/problems/view/1007)\n",
    "## Diferença\n",
    "Leia quatro valores inteiros A, B, C e D. A seguir, calcule e mostre a diferença do produto de A e B pelo produto de C e D segundo a fórmula: DIFERENCA = (A * B - C * D).\n",
    "\n",
    "**Entrada**\n",
    "\n",
    "O arquivo de entrada contém 4 valores inteiros.\n",
    "\n",
    "**Saída**\n",
    "\n",
    "Imprima a mensagem **DIFERENCA** com todas as letras maiúsculas, conforme exemplo abaixo, com um espaço em branco antes e depois da igualdade.\n",
    "\n",
    "| Exemplos de entrada | Exemplos de entrada |\n",
    "|:----------:|----------|\n",
    "| 5<br>6<br>7<br>8 | DIFERENCA = -26 |\n",
    "| 0<br>0<br>7<br>8 | DIFERENCA = -56 |\n",
    "| 5<br>6<br>-7<br>8| DIFERENCA = 86 |"
   ]
  },
  {
   "cell_type": "code",
   "execution_count": null,
   "id": "694fcc08-a006-415f-9900-a429e04f03dd",
   "metadata": {},
   "outputs": [],
   "source": [
    "# Espaço para resolução do Exercício 05"
   ]
  },
  {
   "cell_type": "markdown",
   "id": "a009f32a-6b53-4c7e-a300-fa1cf5ff41dd",
   "metadata": {},
   "source": [
    "# Exercício 6) [1008 Beecrowd](https://www.beecrowd.com.br/judge/pt/problems/view/1008)\n",
    "## Salário\n",
    "Escreva um programa que leia o número de um funcionário, seu número de horas trabalhadas, o valor que recebe por hora e calcula o salário desse funcionário. A seguir, mostre o número e o salário do funcionário, com duas casas decimais.\n",
    "\n",
    "**Entrada**\n",
    "\n",
    "O arquivo de entrada contém 2 números inteiros e 1 número com duas casas decimais, representando o número, quantidade de horas trabalhadas e o valor que o funcionário recebe por hora trabalhada, respectivamente.\n",
    "\n",
    "**Saída**\n",
    "\n",
    "Imprima o número e o salário do funcionário, conforme exemplo fornecido, com um espaço em branco antes e depois da igualdade. No caso do salário, também deve haver um espaço em branco após o USD.\n",
    "\n",
    "| Exemplos de entrada | Exemplos de entrada |\n",
    "|:----------:|----------|\n",
    "| 25<br>100<br>5.50 | NUMBER = 25<br>SALARY = USD 550.00 |\n",
    "| 1<br>200<br>20.50 | NUMBER = 1<br>SALARY = USD 4100.00 |\n",
    "| 6<br>145<br>15.55| NUMBER = 6<br>SALARY = USD 2254.75 |"
   ]
  },
  {
   "cell_type": "code",
   "execution_count": null,
   "id": "09da10f4-23b5-4e71-b157-a7cb4ebeeb9a",
   "metadata": {},
   "outputs": [],
   "source": [
    "# Espaço para resolução do Exercício 06"
   ]
  },
  {
   "cell_type": "markdown",
   "id": "7eb60d1b-d5c0-4219-91c6-51b4b6f8bffc",
   "metadata": {},
   "source": [
    "# Exercício 7) [1009 Beecrowd](https://www.beecrowd.com.br/judge/pt/problems/view/1009)\n",
    "## Salário com bônus\n",
    "Faça um programa que leia o nome de um vendedor, o seu salário fixo e o total de vendas efetuadas por ele no mês (em dinheiro). Sabendo que este vendedor ganha 15% de comissão sobre suas vendas efetuadas, informar o total a receber no final do mês, com duas casas decimais.\n",
    "\n",
    "**Entrada**\n",
    "\n",
    "O arquivo de entrada contém um texto (primeiro nome do vendedor) e 2 valores de dupla precisão (double) com duas casas decimais, representando o salário fixo do vendedor e montante total das vendas efetuadas por este vendedor, respectivamente.\n",
    "\n",
    "**Saída**\n",
    "\n",
    "Imprima o total que o funcionário deverá receber, conforme exemplo fornecido.\n",
    "\n",
    "| Exemplos de entrada | Exemplos de entrada |\n",
    "|:----------:|----------|\n",
    "| JOAO<br>500.00<br>1230.00 | TOTAL = RS 684.54 |\n",
    "| PEDRO<br>700.00<br>0.00 | TOTAL = RS 700.00 |\n",
    "| MANGOJATA<br>1700.00<br>1230.50| TOTAL = RS 1884.58 |"
   ]
  },
  {
   "cell_type": "code",
   "execution_count": null,
   "id": "1ddcc73a-3b35-469b-b7ca-6eb5393f2ba2",
   "metadata": {},
   "outputs": [],
   "source": [
    "# Espaço para resolução do Exercício 07"
   ]
  },
  {
   "cell_type": "markdown",
   "id": "d0a2c5c3-e3e9-4fca-8a13-b83f4f9fd7dc",
   "metadata": {},
   "source": [
    "# Exercício 8) [1017 Beecrowd](https://www.beecrowd.com.br/judge/pt/problems/view/1017)\n",
    "## Gasto de Combustível\n",
    "Joaozinho quer calcular e mostrar a quantidade de litros de combustível gastos em uma viagem, ao utilizar um automóvel que faz 12 KM/L. Para isso, ele gostaria que você o auxiliasse através de um simples programa. Para efetuar o cálculo, deve-se fornecer o tempo gasto na viagem (em horas) e a velocidade média durante a mesma (em km/h). Assim, pode-se obter distância percorrida e, em seguida, calcular quantos litros seriam necessários. Mostre o valor com 3 casas decimais após o ponto.\n",
    "\n",
    "**Entrada**\n",
    "\n",
    "O arquivo de entrada contém dois inteiros. O primeiro é o tempo gasto na viagem (em horas) e o segundo é a velocidade média durante a mesma (em km/h).\n",
    "\n",
    "**Saída**\n",
    "\n",
    "Imprima a quantidade de litros necessária para realizar a viagem, com três dígitos após o ponto decimal\n",
    "\n",
    "| Exemplos de entrada | Exemplos de entrada |\n",
    "|:----------:|----------|\n",
    "| 10<br>85 | 70.833 |\n",
    "| 2<br>92 | 15.333 |\n",
    "| 22<br>67 | 122.833 |"
   ]
  },
  {
   "cell_type": "code",
   "execution_count": null,
   "id": "a28879c2-4333-41a6-a99e-be102016fa74",
   "metadata": {},
   "outputs": [],
   "source": [
    "# Espaço para resolução do Exercício 08"
   ]
  },
  {
   "cell_type": "markdown",
   "id": "d40c926d-c9d5-483b-b749-2e4d3d551993",
   "metadata": {},
   "source": [
    "# Exercício 9) [1021 Beecrowd](https://www.beecrowd.com.br/judge/pt/problems/view/1021)\n",
    "## Notas e Moedas\n",
    "Leia um valor de ponto flutuante com duas casas decimais. Este valor representa um valor monetário. A seguir, calcule o menor número de notas e moedas possíveis no qual o valor pode ser decomposto. As notas consideradas são de 100, 50, 20, 10, 5, 2. As moedas possíveis são de 1, 0.50, 0.25, 0.10, 0.05 e 0.01. A seguir mostre a relação de notas necessárias.\n",
    "\n",
    "**Entrada**\n",
    "\n",
    "O arquivo de entrada contém um valor de ponto flutuante N (0 ≤ N ≤ 1000000.00).\n",
    "\n",
    "**Saída**\n",
    "\n",
    "Imprima a quantidade mínima de notas e moedas necessárias para trocar o valor inicial, conforme exemplo fornecido.\n",
    "\n",
    "Obs: Utilize ponto (.) para separar a parte decimal.\n",
    "\n",
    "| Exemplos de entrada | Exemplos de entrada |\n",
    "|:----------:|----------|\n",
    "| 576.73 | NOTAS:<br>5 nota(s) de RS 100.00 <br> 1 nota(s) de RS50.00<br>1 nota(s) de RS 20.00<br>0 nota(s) de RS 10.00<br>1 nota(s) de RS 5.00<br>0 nota(s) de RS 2.00<br>MOEDAS:<br>1 moeda(s) de RS 1.00<br>1 moeda(s) de RS 0.50<br>0 moeda(s) de RS 0.25<br>2 moeda(s) de RS 0.10<br>0 moeda(s) de RS 0.05<br>3 moeda(s) de RS 0.01 |\n",
    "| 4.00 | NOTAS:<br>0 nota(s) de RS 100.00 <br> 0 nota(s) de RS50.00<br>0 nota(s) de RS 20.00<br>0 nota(s) de RS 10.00<br>0 nota(s) de RS 5.00<br>2 nota(s) de RS 2.00<br>MOEDAS:<br>0 moeda(s) de RS 1.00<br>0 moeda(s) de RS 0.50<br>0 moeda(s) de RS 0.25<br>0 moeda(s) de RS 0.10<br>0 moeda(s) de RS 0.05<br>0 moeda(s) de RS 0.01 |\n",
    "| 91.01 | NOTAS:<br>0 nota(s) de RS 100.00 <br> 1 nota(s) de RS50.00<br>2 nota(s) de RS 20.00<br>0 nota(s) de RS 10.00<br>0 nota(s) de RS 5.00<br>2 nota(s) de RS 2.00<br>MOEDAS:<br>1 moeda(s) de RS 1.00<br>0 moeda(s) de RS 0.50<br>0 moeda(s) de RS 0.25<br>0 moeda(s) de RS 0.10<br>0 moeda(s) de RS 0.05<br>1 moeda(s) de RS 0.01 |"
   ]
  },
  {
   "cell_type": "code",
   "execution_count": null,
   "id": "6619cbef-2e4a-4082-9941-974e17113d3d",
   "metadata": {},
   "outputs": [],
   "source": [
    "# Espaço para resolução do Exercício 09"
   ]
  },
  {
   "cell_type": "markdown",
   "id": "c9f94277-2223-48de-9cf7-696ee61d886d",
   "metadata": {},
   "source": [
    "# Exercício 10) [1078 Beecrowd](https://www.beecrowd.com.br/judge/pt/problems/view/1078)\n",
    "## Tabuada\n",
    "Leia 1 valor inteiro N (2 < N < 1000). A seguir, mostre a tabuada de N:      \n",
    "1 x N = N      2 x N = 2N        ...       10 x N = 10N\n",
    "\n",
    "**Entrada**\n",
    "\n",
    "A entrada contém um valor inteiro N (2 < N < 1000).\n",
    "\n",
    "**Saída**\n",
    "\n",
    "Imprima a tabuada de N, conforme o exemplo fornecido.\n",
    "\n",
    "| Exemplos de entrada | Exemplos de entrada |\n",
    "|:----------:|----------|\n",
    "| 140 | 1 x 140 = 140<br>2 x 140 = 280<br>3 x 140 = 420<br>4 x 140 = 560<br>5 x 140 = 700<br>6 x 140 = 840<br>7 x 140 = 980<br>8 x 140 = 1120<br>9 x 140 = 1260<br>10 x 140 = 1400 |"
   ]
  },
  {
   "cell_type": "code",
   "execution_count": null,
   "id": "3d70a844-4283-4129-a458-a6327107dc08",
   "metadata": {},
   "outputs": [],
   "source": [
    "# Espaço para resolução do Exercício 10"
   ]
  }
 ],
 "metadata": {
  "kernelspec": {
   "display_name": "Python 3 (ipykernel)",
   "language": "python",
   "name": "python3"
  },
  "language_info": {
   "codemirror_mode": {
    "name": "ipython",
    "version": 3
   },
   "file_extension": ".py",
   "mimetype": "text/x-python",
   "name": "python",
   "nbconvert_exporter": "python",
   "pygments_lexer": "ipython3",
   "version": "3.11.7"
  }
 },
 "nbformat": 4,
 "nbformat_minor": 5
}
